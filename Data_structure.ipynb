{
  "nbformat": 4,
  "nbformat_minor": 0,
  "metadata": {
    "colab": {
      "provenance": []
    },
    "kernelspec": {
      "name": "python3",
      "display_name": "Python 3"
    },
    "language_info": {
      "name": "python"
    }
  },
  "cells": [
    {
      "cell_type": "markdown",
      "source": [
        "# **Data Structure**\n",
        "\n",
        "\n",
        "\n",
        "\n",
        "---\n",
        "\n"
      ],
      "metadata": {
        "id": "PQs2RM2x0xC8"
      }
    },
    {
      "cell_type": "markdown",
      "source": [
        "Q1. What are data structures, and why are they important?\n",
        " - Data structures are ways of organizing and storing data in a computer so that it can be accessed and modified efficiently. They are fundamental concepts in computer science and programming.\n",
        "\n",
        "Here's why they are important:\n",
        "\n",
        "- **Efficiency:** Choosing the right data structure can significantly impact the performance of an algorithm or program. Different data structures are optimized for different types of operations (e.g., searching, inserting, deleting).\n",
        "- **Organization:** Data structures provide a structured way to store and manage data, making it easier to understand, access, and manipulate.\n",
        "Problem Solving: Understanding data structures is crucial for solving many programming problems. Many algorithms are designed to work with specific data structures.\n",
        "- **Memory Management:** Some data structures are more memory-efficient than others, which is important for working with large datasets.\n",
        "\n",
        "\n",
        "Q2. Explain the difference between mutable and immutable data types with examples.\n",
        " - Mutable Data Types: These are data types whose values can be changed or modified after creation without creating a new object.\n",
        "\n",
        "- Immutable Data Types: These are data types whose values cannot be changed once created. Any modification results in the creation of a new object.\n",
        "  | Feature          | Mutable (e.g., List, Dict) | Immutable (e.g., String, Tuple) |\n",
        "| ---------------- | -------------------------- | ------------------------------- |\n",
        "| **Modification** | Allowed after creation     | Not allowed                     |\n",
        "| **Memory use**   | Same object reused         | New object created              |\n",
        "| **Examples**     | List, Dictionary, Set      | String, Tuple, Number           |\n",
        "\n",
        "Q3 What are the main differences between lists and tuples in Python?\n",
        "- Mutability:\n",
        "\n",
        "  Lists are mutable (can be changed after creation).\n",
        "\n",
        "  Tuples are immutable (cannot be changed once created).\n",
        "\n",
        "- Syntax:\n",
        "\n",
        "   Lists use square brackets [ ] → [1, 2, 3]\n",
        "\n",
        "   Tuples use parentheses ( ) → (1, 2, 3)\n",
        "\n",
        "- Performance:\n",
        "\n",
        "   Tuples are faster than lists because they are fixed in size.\n",
        "\n",
        "   Lists are slower as they allow modifications.\n",
        "\n",
        "- Use Cases:\n",
        "\n",
        "  Lists are used when data needs to be updated frequently.\n",
        "  \n",
        "  Tuples are used when data should remain constant (like coordinates, days of week).\n",
        "\n",
        "Q4. Describe how dictionaries store data?\n",
        "- Definition:\n",
        "A dictionary in Python stores data in the form of key–value pairs. Each key is unique, and it is used to access its corresponding value.\n",
        "\n",
        "- Internal Storage:\n",
        "Dictionaries use a hash table internally. The key is passed through a hash function, which decides where the value will be stored in memory.\n",
        "\n",
        "- Accessing Data:\n",
        "Data is accessed directly using keys, not indexes. This makes lookup operations very fast (average O(1) time complexity).\n",
        "- Real-life Analogy:\n",
        "A dictionary is like a phonebook – you search a person’s name (key) to quickly get their phone number (value).\n",
        "\n",
        "Q5.  Why might you use a set instead of a list in Python?\n",
        " 1. Uniqueness\n",
        "Sets store only unique elements, automatically removing duplicates. Lists, however, can contain duplicate elements.\n",
        "\n",
        "2. Ordering\n",
        "Sets are an unordered collection of elements, meaning they do not maintain the insertion order and you cannot access elements by index. Lists are ordered collections, preserving the insertion order and allowing elements to be accessed by their index.\n",
        "\n",
        "3. Membership Testing\n",
        "Sets provide a highly optimized, average-case O(1) time complexity for membership testing (checking if an element exists). Lists have a much slower O(n) time complexity for the same operation.\n",
        "\n",
        "4. Mathematical Operations\n",
        "Sets are a direct implementation of the mathematical concept of a set and have built-in methods for set operations like union, intersection, and difference, which are highly efficient. Lists do not have these specialized operations.\n",
        "\n",
        "5. Mutability of Elements\n",
        "Elements within a set must be immutable (e.g., numbers, strings, or tuples). You cannot store mutable objects like lists or dictionaries inside a set. Lists, on the other hand, can store any type of object, including other lists or dictionaries.\n",
        "\n",
        "Q6. What is a string in Python, and how is it different from a list?\n",
        " - A string is a fundamental data type in Python, representing a sequence of characters. It is used to store text-based information. Strings are defined by enclosing characters in single, double, or triple quotes. The key difference between a string and a list lies in their mutability and the types of elements they can hold.\n",
        "\n",
        "Mutability:\n",
        "  - Strings are immutable, meaning their content cannot be changed after creation. Any operation that appears to \"modify\" a string actually creates a new string object. Lists, on the other hand, are mutable; you can add, remove, or modify elements in place.\n",
        "\n",
        "Element Type:\n",
        "-  A string is a sequence of characters and only contains character data. A list is a general-purpose container that can hold a mix of different data types, including integers, floats, other lists, or dictionaries.\n",
        "\n",
        "Operations:\n",
        "- While both support indexing and slicing, lists have methods for in-place modification like append() and pop(), which are not available for strings due to their immutability.\n",
        "\n",
        "Q7.  How do tuples ensure data integrity in Python?\n",
        "\n",
        "- Tuples ensure data integrity primarily through their core property: immutability. Once a tuple is created, its contents—the number of elements and their values—cannot be changed. This immutability guarantees that the data remains constant throughout the program's execution, which is crucial for data integrity.\n",
        "\n",
        "Preventing Accidental Modification:\n",
        "-  If a tuple is used to store fixed data, such as database connection credentials, configuration settings, or the coordinates of a point, its immutability prevents any part of the program from accidentally or intentionally altering these critical values.\n",
        "\n",
        "Safety in Multi-threaded Environments:\n",
        "- In a multi-threaded application, shared data can be corrupted by simultaneous writes. Tuples, being immutable, are inherently thread-safe because multiple threads can read the data without the risk of one thread changing it while another is reading.\n",
        "\n",
        "Using as Dictionary Keys:\n",
        "- Because they are immutable and therefore hashable, tuples can be used as keys in a dictionary. This is a common and important use case where data integrity is vital, as a dictionary key must be a constant value to ensure the correct hash and lookup.\n",
        "\n",
        "Q8.  What is a hash table, and how does it relate to dictionaries in Python?\n",
        "- A hash table is an efficient data structure that stores key-value pairs. It uses a hash function to compute an index from a given key, which then points to the memory location where the corresponding value is stored. This allows for very fast data retrieval.\n",
        "\n",
        " Python's dictionaries are a direct implementation of hash tables. When you add a (key, value) pair to a dictionary, Python:\n",
        "\n",
        "- Calculates the hash value of the key.\n",
        "\n",
        "- Uses this hash value to determine the memory address where the value should be stored.\n",
        "When you try to retrieve the value for a key, the same process occurs in reverse. The hash of the key is calculated, and Python goes directly to the memory address to retrieve the value. This direct lookup mechanism is why dictionary operations (lookup, insertion, deletion) have an average time complexity of O(1), making them incredibly fast compared to searching through a list.\n",
        "\n",
        "Q9. Can lists contain different data types in Python?\n",
        "- Yes, a fundamental feature of Python lists is that they can contain a variety of different data types within the same list. This makes them a highly flexible and versatile data structure.\n",
        "-  For example, a single list can contain:\n",
        "\n",
        "Integers (10, 20)\n",
        "\n",
        "Floating-point numbers (3.14, 2.718)\n",
        "\n",
        "Strings (\"hello\", \"world\")\n",
        "\n",
        "Boolean values (True, False)\n",
        "\n",
        "Other lists ([1, 2, 3])\n",
        "\n",
        "Tuples ((4, 5))\n",
        "\n",
        "Dictionaries ({'name': 'Alice'})\n",
        "\n",
        "- This heterogeneity is a key difference from statically typed languages, where arrays can often only hold elements of a single, uniform type. This flexibility allows lists to be used for a wide range of applications, from simple homogeneous data storage to complex, mixed-type records.\n",
        "\n",
        "Q10. Explain why strings are immutable in Python.\n",
        "- Strings are immutable in Python, which means their value cannot be changed after they are created. This design choice is fundamental and offers several key advantages for the language's performance and functionality.\n",
        "\n",
        "Hashability for Dictionaries and Sets:\n",
        "-  Immutability makes strings hashable. A hash value for an object is computed based on its content. If the content could change, its hash value would change as well, making it unreliable as a key in a dictionary or an element in a set.\n",
        "\n",
        "Performance Optimization:\n",
        "- Python can perform memory optimizations by reusing identical string objects. For instance, if you create s1 = \"hello\" and then s2 = \"hello\", Python might point both variables to the same memory location to save space, an optimization called \"string interning.\"\n",
        "\n",
        "Data Integrity:\n",
        "-  When a string is passed to a function, the function is guaranteed not to modify the original string. This prevents unexpected side effects and makes code easier to reason about.\n",
        "\n",
        "Thread Safety:\n",
        "-  In a multi-threaded environment, multiple threads can safely read a string object without the risk of one thread modifying it while another is reading, which would lead to race conditions.\n",
        "\n",
        "Q11. What advantages do dictionaries offer over lists for certain tasks?\n",
        "- Dictionaries offer significant advantages over lists for tasks that involve data retrieval, storage, and representation.\n",
        "\n",
        "- Fast Lookups (O(1)): Dictionaries provide highly efficient, average O(1) time complexity for retrieving a value associated with a key. Lists, in contrast, require an O(n) linear search to find an element by value. This makes dictionaries the ideal choice for tasks like counting item frequencies or caching data.\n",
        "\n",
        "- Meaningful Keys: Dictionaries use descriptive keys (e.g., 'name', 'age') to access values, which is much more intuitive than a numerical index. This makes the code more readable and self-documenting. For example, person['name'] is clearer than person[0].\n",
        "\n",
        " - Efficient Data Representation: Dictionaries are perfect for representing real-world objects or records, where each piece of data is associated with a unique identifier or name. A list of parallel lists or indices is often a clumsy alternative.\n",
        "\n",
        "- No Duplicates: The keys in a dictionary are unique, which can be a useful property for tasks that require a unique identifier for each item.\n",
        "\n",
        "Q12.  Describe a scenario where using a tuple would be preferable over a list.\n",
        " - A tuple is preferable over a list when you have a collection of related items that are not meant to be changed. The primary advantage is data integrity and immutability.\n",
        "\n",
        "Scenario: Storing a Geographic Coordinate\n",
        "\n",
        "- A geographic coordinate is a fixed point in space, defined by a latitude and a longitude. It is a set of two values that should not be individually modified.\n",
        "\n",
        "Using a tuple:\n",
        "-  coordinate\n",
        "\n",
        "You can pass this tuple to functions, and you are guaranteed that the function will not accidentally change the latitude or longitude.\n",
        "\n",
        "Since tuples are immutable, they are hashable, which means you can use the coordinate tuple as a key in a dictionary to map it to a specific location name or data point.\n",
        "\n",
        "Why a list is not ideal:\n",
        "-  If you used a list, coordinate = [34.0522, -118.2437], another part of the code could accidentally or intentionally change one of the values, e.g., coordinate[0] = 35.0. This could lead to difficult-to-debug errors and data inconsistencies.\n",
        "\n",
        "Q13. How do sets handle duplicate values in Python?\n",
        "- Sets are designed to be a collection of unique, unordered elements. They handle duplicate values by automatically preventing their inclusion. When you try to add an element that already exists in a set, the operation is simply ignored, and the set's contents remain unchanged.\n",
        "\n",
        "During Creation:\n",
        "\n",
        " - If you create a set from a list or tuple that contains duplicates, only one instance of each element will be stored. For example, my_set = {1, 2, 2, 3, 3, 3} will result in my_set being {1, 2, 3}.\n",
        "\n",
        "During Insertion:\n",
        "\n",
        " - The add() method for sets will not add an element if it's already present. For example, my_set.add(2) on {1, 2, 3} will have no effect.\n",
        "\n",
        "- This behavior makes sets ideal for tasks like filtering unique values from a dataset, as they provide a simple and efficient way to ensure uniqueness without needing to write complex loops or checks.\n",
        "\n",
        "Q14. How does the \"in\" keyword work differently for lists and dictionaries?\n",
        "- The in keyword checks for membership, but its underlying mechanism and efficiency differ significantly between lists and dictionaries.\n",
        "\n",
        "Lists:\n",
        "\n",
        "- For a list, the in keyword performs a linear search. It iterates through each element from the beginning of the list until a match is found. This makes its time complexity O(n), meaning the time required to check for membership is proportional to the size of the list.\n",
        "\n",
        "Dictionaries:\n",
        "\n",
        "- For a dictionary, the in keyword checks for the existence of a key. It utilizes the dictionary's hash table implementation to perform a direct lookup based on the key's hash value. This results in an average time complexity of O(1), which is exceptionally fast, regardless of the dictionary's size.\n",
        "\n",
        "This difference in performance is a crucial factor in choosing the right data structure. If you need to perform frequent membership tests, a dictionary or set will be far more efficient than a list.\n",
        "\n",
        "Q15. Can you modify the elements of a tuple? Explain why or why not.\n",
        "- No, you cannot modify the elements of a tuple. The primary reason is that tuples are an immutable data type. This means that once a tuple is created, its contents—the number of elements and their values—are fixed and cannot be changed.\n",
        "\n",
        "This immutability is by design and serves several purposes:\n",
        "\n",
        "- Data Integrity: It ensures that data, such as configuration settings or coordinates, remains constant and safe from accidental alteration.\n",
        "\n",
        "Hashability:\n",
        "-  Because tuples are immutable, their hash value can be calculated and remains constant. This is a prerequisite for being used as a key in a dictionary or an element in a set.\n",
        "\n",
        "Performance:\n",
        "- Immutability can enable Python to perform certain memory and performance optimizations.\n",
        "\n",
        "While you cannot modify a tuple, you can create a new tuple that is a combination of existing tuples, or convert a tuple to a list, modify the list, and then convert it back to a new tuple.\n",
        "\n",
        "\n",
        "Q16. What is a nested dictionary, and give an example of its use case.\n",
        "- A nested dictionary is a dictionary that contains another dictionary as one of its values. This structure is used to represent hierarchical or multi-level data where each item has sub-items or properties that are best organized with their own keys.\n",
        "\n",
        "Example Use Case:\n",
        "- Employee Database\n",
        "A nested dictionary is perfectly suited for storing a collection of records, such as an employee database, where each employee has a unique ID and a set of attributes.\n",
        "\n",
        "Python\n",
        "\n",
        "- employees = {\n",
        "    - 'EMP001': {\n",
        "       - 'first_name': 'Alice',\n",
        "        - 'last_name': 'Johnson',\n",
        "       -  'department': 'Engineering',\n",
        "       -  'salary': 75000\n",
        "     - },\n",
        "     - 'EMP002': {\n",
        "       -  'first_name': 'Bob',\n",
        "       -  'last_name': 'Williams',\n",
        "       -  'department': 'Marketing',\n",
        "       -  'salary': 60000\n",
        "    -  },\n",
        "    - 'EMP003': {\n",
        "       -  'first_name': 'Charlie',\n",
        "       -  'last_name': 'Davis',\n",
        "       - 'department': 'Engineering',\n",
        "         - 'salary': 85000\n",
        "    - }\n",
        "- }\n",
        "\n",
        "\n",
        "Q17.  Describe the time complexity of accessing elements in a dictionary.\n",
        "- The time complexity of accessing an element (a value) in a dictionary is O(1) on average. This means that the time required to retrieve a value from a dictionary is constant and does not increase with the size of the dictionary.\n",
        "\n",
        "- This remarkable efficiency is a direct result of the dictionary's underlying hash table implementation. When you access a value using a key, Python uses a hash function to compute the key's hash value, which acts as a direct memory address or index. This allows the system to go straight to the location of the value, eliminating the need to search through all the elements.\n",
        "\n",
        "+ While there can be rare cases of hash collisions (where two different keys have the same hash value), which can degrade the worst-case time complexity to O(n), this is highly optimized and uncommon in practice. For all practical purposes, dictionary access is considered constant time.\n",
        "\n",
        "Q18. In what situations are lists preferred over dictionaries?\n",
        " - While dictionaries are excellent for key-based lookups, lists are preferred in situations where the order of elements is important, or when the data doesn't naturally fit a key-value structure.\n",
        "\n",
        "Ordered Data:\n",
        "-  When the sequence of data is significant, lists are the clear choice. For example, storing a list of tasks to be completed in a specific order, or a sequence of events in a timeline.\n",
        "\n",
        "Indexing:\n",
        "- When you need to access elements by their position or index, lists are the only option. This is essential for algorithms that require iteration over elements based on their position, such as in-place sorting or traversing a data stream.\n",
        "\n",
        "Storing Duplicates:\n",
        "-  If your data contains duplicate values that you need to preserve (e.g., a list of all sales transactions, including multiple transactions for the same amount), a list is necessary. Dictionaries require unique keys.\n",
        "\n",
        "No Meaningful Keys:\n",
        "-  In cases where the data items are not associated with a unique, descriptive key (e.g., a list of all numbers from 1 to 100), a list is a more straightforward and memory-efficient choice.\n",
        "\n",
        "Q19. Why are dictionaries considered unordered, and how does that affect data retrieval?\n",
        "- Before Python 3.7, dictionaries were considered unordered because their underlying hash table implementation did not guarantee any specific order for the stored elements. The position of a key-value pair in memory was determined by the key's hash value, not by the order of insertion.\n",
        "\n",
        "- Impact on Data Retrieval: The \"unordered\" nature meant you could not rely on iteration order. If you iterated over a dictionary, the order in which key-value pairs were returned was unpredictable and could even vary between different Python versions or program runs. This meant that you could not use an index to retrieve an element or expect the data to be in any specific sequence. Data retrieval was strictly by key, not by position.\n",
        "\n",
        "Note:\n",
        "-  As of Python 3.7 (and CPython 3.6), dictionaries are officially ordered by insertion. While this change makes them behave like ordered collections, the core, fundamental concept of a dictionary is still key-based retrieval, and their primary use case remains for fast, non-sequential lookups.\n",
        "\n",
        "Q20. Explain the difference between a list and a dictionary in terms of data retrieval.\n",
        "- The fundamental difference between a list and a dictionary in terms of data retrieval lies in the method used to access the data.\n",
        "\n",
        "Lists:\n",
        "-  Retrieval by Position (Index): Lists are ordered collections, and data is retrieved by its numerical position or index. For example, to get the first element of a list my_list, you use my_list[0]. Access time is constant (O(1)) for a given index, but finding an element by its value requires a linear search (O(n)).\n",
        "\n",
        "Dictionaries:\n",
        "-  Retrieval by Key: Dictionaries are collections of key-value pairs, and data is retrieved by its unique, descriptive key. For example, to get a person's age from a dictionary, you would use person_dict['age']. This key-based retrieval is highly efficient, with an average time complexity of O(1), regardless of the dictionary's size, due to the underlying hash table implementation.\n",
        "  \n",
        "\n",
        "\n",
        "\n"
      ],
      "metadata": {
        "id": "p8vnpX0C0yxI"
      }
    },
    {
      "cell_type": "code",
      "execution_count": 2,
      "metadata": {
        "colab": {
          "base_uri": "https://localhost:8080/"
        },
        "id": "oaz9bxEpnJUe",
        "outputId": "0eb78406-c467-4bb5-c59c-ca9ab2057297"
      },
      "outputs": [
        {
          "output_type": "stream",
          "name": "stdout",
          "text": [
            "Himanshu\n"
          ]
        }
      ],
      "source": [
        "#1. Write a code to create a string with your name and print it\n",
        "str1=(\"Himanshu\")\n",
        "print(str1)"
      ]
    },
    {
      "cell_type": "code",
      "source": [
        "#2. Write a code to find the length of the string \"Hello World\"\n",
        "str1=(\"Hello World\")\n",
        "len(str1)"
      ],
      "metadata": {
        "colab": {
          "base_uri": "https://localhost:8080/"
        },
        "id": "_imjv2iqnwi2",
        "outputId": "47a237ad-4420-4c6e-fb6d-15d0b41f574f"
      },
      "execution_count": 3,
      "outputs": [
        {
          "output_type": "execute_result",
          "data": {
            "text/plain": [
              "11"
            ]
          },
          "metadata": {},
          "execution_count": 3
        }
      ]
    },
    {
      "cell_type": "code",
      "source": [
        "#3. Write a code to slice the first 3 characters from the string \"Python Programming\"\n",
        "str2=(\"Pyhton Program\")\n",
        "new=str2[0:3]\n",
        "print(\"First three characters is:\", new)\n"
      ],
      "metadata": {
        "colab": {
          "base_uri": "https://localhost:8080/"
        },
        "id": "EA0vUBZMn_Un",
        "outputId": "077e646d-604b-41f2-f1d9-156480ddfe3b"
      },
      "execution_count": 7,
      "outputs": [
        {
          "output_type": "stream",
          "name": "stdout",
          "text": [
            "First three characters is: Pyh\n"
          ]
        }
      ]
    },
    {
      "cell_type": "code",
      "source": [
        "#4. Write a code to convert the string \"hello\" to uppercase\n",
        "str3=(\"hello\")\n",
        "str3.upper()"
      ],
      "metadata": {
        "colab": {
          "base_uri": "https://localhost:8080/",
          "height": 36
        },
        "id": "gyXY5HS9outd",
        "outputId": "c9c9d5a8-eece-4855-9e05-bf137d4fcb52"
      },
      "execution_count": 9,
      "outputs": [
        {
          "output_type": "execute_result",
          "data": {
            "text/plain": [
              "'HELLO'"
            ],
            "application/vnd.google.colaboratory.intrinsic+json": {
              "type": "string"
            }
          },
          "metadata": {},
          "execution_count": 9
        }
      ]
    },
    {
      "cell_type": "code",
      "source": [
        "#5. Write a code to replace the word \"apple\" with \"orange\" in the string \"I like apple\"\n",
        "str4 =(\"I like apple\")\n",
        "replace=str4.replace(\"apple\",\"orange\")\n",
        "print(\"New string is :\", replace)\n"
      ],
      "metadata": {
        "colab": {
          "base_uri": "https://localhost:8080/"
        },
        "id": "KmBOl2pdpcOD",
        "outputId": "215ee973-b369-4e68-d2ca-6299bc106d1b"
      },
      "execution_count": 14,
      "outputs": [
        {
          "output_type": "stream",
          "name": "stdout",
          "text": [
            "New string is : I like orange\n"
          ]
        }
      ]
    },
    {
      "cell_type": "code",
      "source": [
        "#6. Write a code to create a list with numbers 1 to 5 and print it\n",
        "list1=[1,2,3,4,5]\n",
        "print(list1)"
      ],
      "metadata": {
        "colab": {
          "base_uri": "https://localhost:8080/"
        },
        "id": "lDZGHTrIp6ju",
        "outputId": "0eef2eb6-39c1-420e-f9cd-57878230df27"
      },
      "execution_count": 15,
      "outputs": [
        {
          "output_type": "stream",
          "name": "stdout",
          "text": [
            "[1, 2, 3, 4, 5]\n"
          ]
        }
      ]
    },
    {
      "cell_type": "code",
      "source": [
        "#7. Write a code to append the number 10 to the list [1, 2, 3, 4]\n",
        "list2=[1,2,3,4]\n",
        "list2.append(10)\n",
        "print(list2)"
      ],
      "metadata": {
        "colab": {
          "base_uri": "https://localhost:8080/"
        },
        "id": "GLne5Qf8qyBY",
        "outputId": "3bb2a70a-daa3-415b-b0a0-0cb9ca5b862a"
      },
      "execution_count": 16,
      "outputs": [
        {
          "output_type": "stream",
          "name": "stdout",
          "text": [
            "[1, 2, 3, 4, 10]\n"
          ]
        }
      ]
    },
    {
      "cell_type": "code",
      "source": [
        "#8. Write a code to remove the number 3 from the list [1, 2, 3, 4, 5]\n",
        "list3 =[1,2,3,4,5]\n",
        "list3.remove(3)\n",
        "print(list3)"
      ],
      "metadata": {
        "colab": {
          "base_uri": "https://localhost:8080/"
        },
        "id": "gq6-gmT3q_-t",
        "outputId": "74008cf9-3c6e-48a9-dbd7-8ef52daae6de"
      },
      "execution_count": 18,
      "outputs": [
        {
          "output_type": "stream",
          "name": "stdout",
          "text": [
            "[1, 2, 4, 5]\n"
          ]
        }
      ]
    },
    {
      "cell_type": "code",
      "source": [
        "#9. Write a code to access the second element in the list ['a', 'b', 'c', 'd']\n",
        "list4=['a','b','c','d']\n",
        "list4[1]"
      ],
      "metadata": {
        "colab": {
          "base_uri": "https://localhost:8080/",
          "height": 36
        },
        "id": "DGGHRZn-rVud",
        "outputId": "fa9e8c64-d635-4751-be2b-aa18ee7861d9"
      },
      "execution_count": 19,
      "outputs": [
        {
          "output_type": "execute_result",
          "data": {
            "text/plain": [
              "'b'"
            ],
            "application/vnd.google.colaboratory.intrinsic+json": {
              "type": "string"
            }
          },
          "metadata": {},
          "execution_count": 19
        }
      ]
    },
    {
      "cell_type": "code",
      "source": [
        "#10.  Write a code to reverse the list [10, 20, 30, 40, 50].\n",
        "list5= [10,20,30,40,50]\n",
        "list5.reverse()\n",
        "print(list5)"
      ],
      "metadata": {
        "colab": {
          "base_uri": "https://localhost:8080/"
        },
        "id": "JRyRV8x5rgZa",
        "outputId": "2c6b5fe1-8a49-431a-861a-4486dbcbb301"
      },
      "execution_count": 21,
      "outputs": [
        {
          "output_type": "stream",
          "name": "stdout",
          "text": [
            "[50, 40, 30, 20, 10]\n"
          ]
        }
      ]
    },
    {
      "cell_type": "code",
      "source": [
        "#11. Write a code to create a tuple with the elements 100, 200, 300 and print it.\n",
        "t=(100,200,300)\n",
        "print(t)\n",
        "type(t)"
      ],
      "metadata": {
        "colab": {
          "base_uri": "https://localhost:8080/"
        },
        "id": "tfdoqOQlr0RV",
        "outputId": "5169da17-acb3-4b71-f559-b1a8a4666d3e"
      },
      "execution_count": 22,
      "outputs": [
        {
          "output_type": "stream",
          "name": "stdout",
          "text": [
            "(100, 200, 300)\n"
          ]
        },
        {
          "output_type": "execute_result",
          "data": {
            "text/plain": [
              "tuple"
            ]
          },
          "metadata": {},
          "execution_count": 22
        }
      ]
    },
    {
      "cell_type": "code",
      "source": [
        "#12. Write a code to access the second-to-last element of the tuple ('red', 'green', 'blue', 'yellow').\n",
        "t1=(\"red\",\"green\",\"blue\",\"yellow\")\n",
        "t1[-2]\n"
      ],
      "metadata": {
        "colab": {
          "base_uri": "https://localhost:8080/",
          "height": 36
        },
        "id": "VhYS43JSsHiW",
        "outputId": "b3b3bc39-c3eb-4a94-8415-416257063b1b"
      },
      "execution_count": 27,
      "outputs": [
        {
          "output_type": "execute_result",
          "data": {
            "text/plain": [
              "'blue'"
            ],
            "application/vnd.google.colaboratory.intrinsic+json": {
              "type": "string"
            }
          },
          "metadata": {},
          "execution_count": 27
        }
      ]
    },
    {
      "cell_type": "code",
      "source": [
        "#13. Write a code to find the minimum number in the tuple (10, 20, 5, 15).\n",
        "t2=(10,20,5,15)\n",
        "minimum =min(t2)\n",
        "print(minimum)"
      ],
      "metadata": {
        "colab": {
          "base_uri": "https://localhost:8080/"
        },
        "id": "PYt4pUHYtC60",
        "outputId": "5e4173e7-7786-446b-b176-8073c1286072"
      },
      "execution_count": 36,
      "outputs": [
        {
          "output_type": "stream",
          "name": "stdout",
          "text": [
            "5\n"
          ]
        }
      ]
    },
    {
      "cell_type": "code",
      "source": [
        "#14. Write a code to find the index of the element \"cat\" in the tuple ('dog', 'cat', 'rabbit').\n",
        "animal= ('dog', 'cat', 'rabbit')\n",
        "print(animal.index('cat'))"
      ],
      "metadata": {
        "colab": {
          "base_uri": "https://localhost:8080/"
        },
        "id": "0SxoIWMstcK_",
        "outputId": "5e14a3d5-3e5e-452d-cafc-57b2f9336e54"
      },
      "execution_count": 38,
      "outputs": [
        {
          "output_type": "stream",
          "name": "stdout",
          "text": [
            "1\n"
          ]
        }
      ]
    },
    {
      "cell_type": "code",
      "source": [
        "#15. Write a code to create a tuple containing three different fruits and check if \"kiwi\" is in it.\n",
        "\n",
        "fruit=(\"apple\",\"banana\",\"orange\")\n",
        "if \"kiwi\" in fruit:\n",
        "    print(\"kiwi is in the tuple\")\n",
        "else:\n",
        "    print(\"kiwi is not in the tuple\")"
      ],
      "metadata": {
        "colab": {
          "base_uri": "https://localhost:8080/"
        },
        "id": "-hUN1jWuuJ6x",
        "outputId": "5a134f57-f1c7-4f82-df46-b4957fa18c70"
      },
      "execution_count": 39,
      "outputs": [
        {
          "output_type": "stream",
          "name": "stdout",
          "text": [
            "kiwi is not in the tuple\n"
          ]
        }
      ]
    },
    {
      "cell_type": "code",
      "source": [
        "#16.  Write a code to create a set with the elements 'a', 'b', 'c' and print it.\n",
        "s={\"a\",\"b\",\"c\"}\n",
        "print(s)\n"
      ],
      "metadata": {
        "colab": {
          "base_uri": "https://localhost:8080/"
        },
        "id": "3HeiPJAYunlm",
        "outputId": "0c79fb6a-b13e-44e3-c482-2052a35a7e06"
      },
      "execution_count": 40,
      "outputs": [
        {
          "output_type": "stream",
          "name": "stdout",
          "text": [
            "{'a', 'c', 'b'}\n"
          ]
        },
        {
          "output_type": "execute_result",
          "data": {
            "text/plain": [
              "set"
            ]
          },
          "metadata": {},
          "execution_count": 40
        }
      ]
    },
    {
      "cell_type": "code",
      "source": [
        "#17. Write a code to clear all elements from the set {1, 2, 3, 4, 5}.\n",
        "s1={1,2,3,4,5}\n",
        "s1.clear()\n",
        "type(s1)\n",
        "\n"
      ],
      "metadata": {
        "colab": {
          "base_uri": "https://localhost:8080/"
        },
        "id": "jHJBNpjtu5ut",
        "outputId": "43c97369-60df-4f44-803d-9ec63bf44509"
      },
      "execution_count": 48,
      "outputs": [
        {
          "output_type": "execute_result",
          "data": {
            "text/plain": [
              "set"
            ]
          },
          "metadata": {},
          "execution_count": 48
        }
      ]
    },
    {
      "cell_type": "code",
      "source": [
        "#18. Write a code to remove the element 4 from the set {1, 2, 3, 4}.\n",
        "s2= {1,2,3,4}\n",
        "s2.remove(4)\n",
        "print(s2)"
      ],
      "metadata": {
        "colab": {
          "base_uri": "https://localhost:8080/"
        },
        "id": "w8h-PGjAvQbO",
        "outputId": "f888bfb6-86f9-4b36-b580-749de2964096"
      },
      "execution_count": 49,
      "outputs": [
        {
          "output_type": "stream",
          "name": "stdout",
          "text": [
            "{1, 2, 3}\n"
          ]
        }
      ]
    },
    {
      "cell_type": "code",
      "source": [
        "#19.  Write a code to find the union of two sets {1, 2, 3} and {3, 4, 5}.\n",
        "set1 ={1,2,3}\n",
        "set2 ={3,4,5}\n",
        "set3=set1.union(set2)\n",
        "print(set3)\n"
      ],
      "metadata": {
        "colab": {
          "base_uri": "https://localhost:8080/"
        },
        "id": "bg3FTj9Nv1sM",
        "outputId": "b4366401-7a93-4f0b-b111-df3526a427cd"
      },
      "execution_count": 51,
      "outputs": [
        {
          "output_type": "stream",
          "name": "stdout",
          "text": [
            "{1, 2, 3, 4, 5}\n"
          ]
        }
      ]
    },
    {
      "cell_type": "code",
      "source": [
        "#20. Write a code to find the intersection of two sets {1, 2, 3} and {2, 3, 4}\n",
        "set1= {1,2,3}\n",
        "set2= {2,3,4}\n",
        "set3= set1.intersection(set2)\n",
        "print(set3)"
      ],
      "metadata": {
        "colab": {
          "base_uri": "https://localhost:8080/"
        },
        "id": "eAnGYb3xwG8z",
        "outputId": "d37d5c10-23e0-4711-e0d3-0eb4f17881de"
      },
      "execution_count": 52,
      "outputs": [
        {
          "output_type": "stream",
          "name": "stdout",
          "text": [
            "{2, 3}\n"
          ]
        }
      ]
    },
    {
      "cell_type": "code",
      "source": [
        "#21. Write a code to create a dictionary with the keys \"name\", \"age\", and \"city\", and print it.\n",
        "d={\"name\":\"Himanshu\",\"age\":21,\"city\":\"Sonipat\"}\n",
        "d\n"
      ],
      "metadata": {
        "colab": {
          "base_uri": "https://localhost:8080/"
        },
        "id": "pX4qRDNvwgbh",
        "outputId": "da5b4aaa-d5c0-460e-9c19-bb835dc921ec"
      },
      "execution_count": 59,
      "outputs": [
        {
          "output_type": "execute_result",
          "data": {
            "text/plain": [
              "{'name': 'Himanshu', 'age': 21, 'city': 'Sonipat'}"
            ]
          },
          "metadata": {},
          "execution_count": 59
        }
      ]
    },
    {
      "cell_type": "code",
      "source": [
        "#22. Write a code to add a new key-value pair \"country\": \"USA\" to the dictionary {'name': 'John', 'age': 25}.\n",
        "d={'name': 'John', 'age': 25}\n",
        "d['country']='USA'\n",
        "print(d)"
      ],
      "metadata": {
        "colab": {
          "base_uri": "https://localhost:8080/"
        },
        "id": "JW_ri7Muw1Dy",
        "outputId": "dca93641-52e3-4662-9511-5c22d6f7e1e3"
      },
      "execution_count": 60,
      "outputs": [
        {
          "output_type": "stream",
          "name": "stdout",
          "text": [
            "{'name': 'John', 'age': 25, 'country': 'USA'}\n"
          ]
        }
      ]
    },
    {
      "cell_type": "code",
      "source": [
        "#23. Write a code to access the value associated with the key \"name\" in the dictionary {'name': 'Alice', 'age': 30}.\n",
        "d={'name': 'Alice', 'age': 30}\n",
        "print(d['name'])"
      ],
      "metadata": {
        "colab": {
          "base_uri": "https://localhost:8080/"
        },
        "id": "83prmuZgxaoc",
        "outputId": "6974c048-d488-40f3-da63-1e21c7c837be"
      },
      "execution_count": 61,
      "outputs": [
        {
          "output_type": "stream",
          "name": "stdout",
          "text": [
            "Alice\n"
          ]
        }
      ]
    },
    {
      "cell_type": "code",
      "source": [
        "#24.  Write a code to remove the key \"age\" from the dictionary {'name': 'Bob', 'age': 22, 'city': 'New York'}.\n",
        "d={'name': 'Bob', 'age': 22, 'city': 'New York'}\n",
        "d.pop('age')\n",
        "print(d)"
      ],
      "metadata": {
        "colab": {
          "base_uri": "https://localhost:8080/"
        },
        "id": "vQaeqJLSxk74",
        "outputId": "00124a0a-1bc7-4332-aedb-38ea48f515a7"
      },
      "execution_count": 62,
      "outputs": [
        {
          "output_type": "stream",
          "name": "stdout",
          "text": [
            "{'name': 'Bob', 'city': 'New York'}\n"
          ]
        }
      ]
    },
    {
      "cell_type": "code",
      "source": [
        "#25. Write a code to check if the key \"city\" exists in the dictionary {'name': 'Alice', 'city': 'Paris'}.\n",
        "dict = {'name': 'Alice', 'city': 'Paris'}\n",
        "if 'city' in dict:\n",
        "    print(\"The key 'city' exists in the dictionary.\")\n",
        "else:\n",
        "    print(\"The key 'city' does not exist in the dictionary.\")\n",
        "\n"
      ],
      "metadata": {
        "colab": {
          "base_uri": "https://localhost:8080/"
        },
        "id": "eWYCCnFvxzVL",
        "outputId": "d29ef3ca-0f04-493a-bc67-d4e91d163b55"
      },
      "execution_count": 63,
      "outputs": [
        {
          "output_type": "stream",
          "name": "stdout",
          "text": [
            "The key 'city' exists in the dictionary.\n"
          ]
        }
      ]
    },
    {
      "cell_type": "code",
      "source": [
        "#26. Write a code to create a list, a tuple, and a dictionary, and print them all.\n",
        "list1=[1,2,3]\n",
        "tuple1=(1,2,3)\n",
        "dict1={1:\"a\",2:\"b\",3:\"c\"}\n",
        "print(list1)\n",
        "print(tuple1)\n",
        "print(dict1)"
      ],
      "metadata": {
        "colab": {
          "base_uri": "https://localhost:8080/"
        },
        "id": "QDb3kK2wyMIQ",
        "outputId": "7edf873f-3c14-46c0-ddfe-7ae9b6fec479"
      },
      "execution_count": 64,
      "outputs": [
        {
          "output_type": "stream",
          "name": "stdout",
          "text": [
            "[1, 2, 3]\n",
            "(1, 2, 3)\n",
            "{1: 'a', 2: 'b', 3: 'c'}\n"
          ]
        }
      ]
    },
    {
      "cell_type": "code",
      "source": [
        "#27.  Write a code to create a list of 5 random numbers between 1 and 100, sort it in ascending order, and print the result(replaced)\n",
        "\n",
        "import random\n",
        "random_numbers = [random.randint(1, 100) for _ in range(5)]\n",
        "random_numbers.sort()\n",
        "print(random_numbers)\n",
        "\n"
      ],
      "metadata": {
        "id": "5V3bIpNfyYdK"
      },
      "execution_count": null,
      "outputs": []
    },
    {
      "cell_type": "code",
      "source": [
        "#28. Write a code to create a list with strings and print the element at the third index.\n",
        "\n",
        "string_list = [\"apple\", \"banana\", \"cherry\", \"date\", \"elderberry\"]\n",
        "third_element = string_list[2]\n",
        "print(third_element)"
      ],
      "metadata": {
        "colab": {
          "base_uri": "https://localhost:8080/"
        },
        "id": "DZacEm6Sy2Eq",
        "outputId": "ecd8aaaa-a792-4d5c-929a-eb25ed6bb56c"
      },
      "execution_count": 68,
      "outputs": [
        {
          "output_type": "stream",
          "name": "stdout",
          "text": [
            "cherry\n"
          ]
        }
      ]
    },
    {
      "cell_type": "code",
      "source": [
        "#29. Write a code to combine two dictionaries into one and print the result.\n",
        "\n",
        "dict1 = {'a': 1, 'b': 2}\n",
        "dict2 = {'c': 3, 'd': 4}\n",
        "\n",
        "combined_dict = dict1.copy()\n",
        "combined_dict.update(dict2)\n",
        "\n",
        "print(combined_dict)"
      ],
      "metadata": {
        "colab": {
          "base_uri": "https://localhost:8080/"
        },
        "id": "lmpHrECUzk1w",
        "outputId": "690ac38b-1ae5-40b6-f135-8d0802ec6107"
      },
      "execution_count": 69,
      "outputs": [
        {
          "output_type": "stream",
          "name": "stdout",
          "text": [
            "{'a': 1, 'b': 2, 'c': 3, 'd': 4}\n"
          ]
        }
      ]
    },
    {
      "cell_type": "code",
      "source": [
        "#30. Write a code to convert a list of strings into a set.\n",
        "list1=[\"apple\",\"banana\",\"mango\",\"orange\"]\n",
        "#convert into set\n",
        "list2=set(list1)\n",
        "print(list2)"
      ],
      "metadata": {
        "colab": {
          "base_uri": "https://localhost:8080/"
        },
        "id": "UYe9tbc80J6G",
        "outputId": "4659098f-22e6-4198-b3a5-d1e4ca564655"
      },
      "execution_count": 70,
      "outputs": [
        {
          "output_type": "stream",
          "name": "stdout",
          "text": [
            "{'apple', 'banana', 'mango', 'orange'}\n"
          ]
        }
      ]
    }
  ]
}